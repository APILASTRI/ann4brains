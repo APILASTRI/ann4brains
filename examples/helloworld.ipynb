{
 "cells": [
  {
   "cell_type": "code",
   "execution_count": 1,
   "metadata": {
    "collapsed": true
   },
   "outputs": [],
   "source": [
    "# BrainNetCNN Implementation Version 1.0\n",
    "# Software by Jeremy Kawahara and Colin J Brown\n",
    "# Medical Image Analysis Lab, Simon Fraser University, Canada, 2017\n",
    "# Implements the method described in: dx.doi.org/10.1016/j.neuroimage.2016.09.046"
   ]
  },
  {
   "cell_type": "markdown",
   "metadata": {},
   "source": [
    "<h1>ann2brains \"hello world\"</h1>"
   ]
  },
  {
   "cell_type": "code",
   "execution_count": 2,
   "metadata": {
    "collapsed": false
   },
   "outputs": [
    {
     "name": "stdout",
     "output_type": "stream",
     "text": [
      "('Mean Absolute Difference:', 0.18728983)\n",
      "('Correlation:', 0.63410163)\n"
     ]
    }
   ],
   "source": [
    "import os\n",
    "import numpy as np\n",
    "import sys\n",
    "from scipy.stats.stats import pearsonr\n",
    "import caffe\n",
    "\n",
    "sys.path.insert(0, os.path.abspath(os.path.join(os.getcwd(), '..'))) # To import ann4brains\n",
    "from ann4brains.synthetic.injury import ConnectomeInjury\n",
    "from ann4brains.nets import BrainNetCNN\n",
    "\n",
    "np.random.seed(seed=333) # To reproduce results.\n",
    "\n",
    "# Generate train/test synthetic data.\n",
    "injury = ConnectomeInjury()\n",
    "x_train, y_train = injury.generate_injury()\n",
    "x_test, y_test = injury.generate_injury()\n",
    "x_valid, y_valid = injury.generate_injury()\n",
    "\n",
    "# Unique name for the model\n",
    "net_name = 'hello_world'\n",
    "\n",
    "# We specify the architecture like this.\n",
    "hello_arch = [\n",
    "    ['e2n', {'num_output': 16,  # e2n layer with 16 filters.\n",
    "             'kernel_h': x_train.shape[2], \n",
    "             'kernel_w': x_train.shape[3]}], # Same dimensions as spatial inputs.\n",
    "    ['dropout', {'dropout_ratio': 0.5}], # Dropout at 0.5\n",
    "    ['relu',    {'negative_slope': 0.33}], # For leaky-ReLU\n",
    "    ['fc',      {'num_output': 30}],  # Fully connected (n2g) layer with 30 filters.\n",
    "    ['relu',    {'negative_slope': 0.33}],\n",
    "    ['out',     {'num_output': 1}]  # Output layer with num_outs nodes as outputs.\n",
    "]\n",
    "\n",
    "# Create BrainNetCNN model\n",
    "hello_net = BrainNetCNN(net_name, hello_arch)\n",
    "\n",
    "# Train the network (the synthetic data has 2 classes, but we use just the first class)\n",
    "hello_net.fit(x_train, y_train[:,0], x_valid, y_valid[:,0])\n",
    "\n",
    "# Predict labels of test data\n",
    "preds = hello_net.predict(x_test)\n",
    "\n",
    "print(\"Mean Absolute Difference:\" , np.mean(np.abs(preds-y_test[:,0])))\n",
    "print(\"Correlation:\", pearsonr(preds, y_test[:,0])[0])"
   ]
  }
 ],
 "metadata": {
  "kernelspec": {
   "display_name": "Python 2",
   "language": "python",
   "name": "python2"
  },
  "language_info": {
   "codemirror_mode": {
    "name": "ipython",
    "version": 2
   },
   "file_extension": ".py",
   "mimetype": "text/x-python",
   "name": "python",
   "nbconvert_exporter": "python",
   "pygments_lexer": "ipython2",
   "version": "2.7.11"
  }
 },
 "nbformat": 4,
 "nbformat_minor": 2
}
