{
 "cells": [
  {
   "cell_type": "code",
   "execution_count": 1,
   "metadata": {
    "collapsed": true
   },
   "outputs": [],
   "source": [
    "# BrainNetCNN Implementation Version 1.0\n",
    "# Software by Jeremy Kawahara and Colin J Brown\n",
    "# Medical Image Analysis Lab, Simon Fraser University, Canada, 2017\n",
    "# Implements the method described in: dx.doi.org/10.1016/j.neuroimage.2016.09.046"
   ]
  },
  {
   "cell_type": "markdown",
   "metadata": {},
   "source": [
    "<h1>ann2brains \"hello world\"</h1>"
   ]
  },
  {
   "cell_type": "code",
   "execution_count": 2,
   "metadata": {
    "collapsed": false
   },
   "outputs": [
    {
     "name": "stdout",
     "output_type": "stream",
     "text": [
      "('Correlation:', 0.63339198)\n"
     ]
    }
   ],
   "source": [
    "import os, sys\n",
    "import numpy as np\n",
    "from scipy.stats.stats import pearsonr\n",
    "import caffe\n",
    "sys.path.insert(0, os.path.abspath(os.path.join(os.getcwd(), '..'))) # To import ann4brains\n",
    "from ann4brains.synthetic.injury import ConnectomeInjury\n",
    "from ann4brains.nets import BrainNetCNN\n",
    "np.random.seed(seed=333) # To reproduce results.\n",
    "\n",
    "injury = ConnectomeInjury() # Generate train/test synthetic data.\n",
    "x_train, y_train = injury.generate_injury()\n",
    "x_test, y_test = injury.generate_injury()\n",
    "x_valid, y_valid = injury.generate_injury()\n",
    "\n",
    "hello_arch = [ # We specify the architecture like this.\n",
    "    ['e2n', {'num_output': 16,  # e2n layer with 16 filters.\n",
    "             'kernel_h': x_train.shape[2], \n",
    "             'kernel_w': x_train.shape[3]}], # Same dimensions as spatial inputs.\n",
    "    ['dropout', {'dropout_ratio': 0.5}], # Dropout at 0.5\n",
    "    ['relu',    {'negative_slope': 0.33}], # For leaky-ReLU\n",
    "    ['fc',      {'num_output': 30}],  # Fully connected (n2g) layer with 30 filters.\n",
    "    ['relu',    {'negative_slope': 0.33}],\n",
    "    ['out',     {'num_output': 1}]  # Output layer with num_outs nodes as outputs.\n",
    "]\n",
    "\n",
    "hello_net = BrainNetCNN('hello_world', hello_arch) # Create BrainNetCNN model\n",
    "hello_net.fit(x_train, y_train[:,0], x_valid, y_valid[:,0]) # Train (regress only on class 0)\n",
    "preds = hello_net.predict(x_test) # Predict labels of test data\n",
    "\n",
    "print(\"Correlation:\", pearsonr(preds, y_test[:,0])[0])"
   ]
  },
  {
   "cell_type": "code",
   "execution_count": null,
   "metadata": {
    "collapsed": true
   },
   "outputs": [],
   "source": []
  }
 ],
 "metadata": {
  "kernelspec": {
   "display_name": "Python 2",
   "language": "python",
   "name": "python2"
  },
  "language_info": {
   "codemirror_mode": {
    "name": "ipython",
    "version": 2
   },
   "file_extension": ".py",
   "mimetype": "text/x-python",
   "name": "python",
   "nbconvert_exporter": "python",
   "pygments_lexer": "ipython2",
   "version": "2.7.11"
  }
 },
 "nbformat": 4,
 "nbformat_minor": 2
}
